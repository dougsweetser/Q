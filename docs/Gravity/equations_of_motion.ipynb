{
 "cells": [
  {
   "cell_type": "markdown",
   "metadata": {},
   "source": [
    "# Equations of motion from a line element"
   ]
  },
  {
   "cell_type": "markdown",
   "metadata": {},
   "source": [
    "\n",
    "\n",
    "The idea for this notebook is to follow the logic presented at this URL: https://hepweb.ucsd.edu/ph110b/110b_notes/node79.html,\n",
    "first using the Schwarzschild metric, then with the exponential escape velocity field I have proposed.\n",
    "\n",
    "Write out the Schwarzschild metric in spherical coordinates.\n",
    "\n",
    "$$\n",
    "d\\tau^2=\\left(1-2 \\frac{GM}{c^2 R}\\right)dt^2-1/c^2\\left(1-2 \\frac{GM}{c^2 R}\\right) dR^2-1/c^2 R^2 d\\theta^2-1/c^2 R^2 \\sin^2(\\theta)d\\phi^2\n",
    "$$\n",
    "\n",
    "Divide through by $d\\tau^2$:\n",
    "\n",
    "$$\n",
    "1=\\left(1-2 \\frac{GM}{c^2 R}\\right)\\left(\\frac{dt}{d\\tau}\\right)^2-1/c^2\\left(1-2 \\frac{GM}{c^2 R}\\right) \\left(\\frac{dR}{d\\tau}\\right)^2-\\frac{1}{c^2} R^2 \\left(\\frac{d\\theta}{d\\tau}\\right)^2-\\frac{1}{c^2} R^2 \\sin^2(\\theta)\\left(\\frac{d\\phi}{d\\tau}\\right)^2\n",
    "$$\n",
    "\n",
    "If you have ever \"done time\" in a graduate-level math class on calculus, there is a major concern about this step. I will acknowledge, yet continue to go forward despite said concerns.\n",
    "\n",
    "There are a few things to notice about this expression. The first is that it is a constant! That fact will be used later.\n",
    "\n",
    "Expressions written in spherical coordinates which depends on $t$, $R$, $\\theta$, and $\\phi$. Notice that both $t$ and $\\phi$ are _not in any of the 4 coefficients_. This looks like a squared velocity vector. If it can be put into a Lagrangian for the motion of a particle, then a change in time $t$ or an angle $\\phi$ would not alter equations of motion. Where there is a symmetry like this there is a conserved quantity. In these cases, both energy and angular momentum are conserved respectively.\n",
    "\n",
    "Without bothering to explain, the author of that web page writes down a Lagrangian:\n",
    "\n",
    "$$\n",
    "\\mathcal{L}_\\rm{Schw.} = - m c \\sqrt{\\left(1-2 \\frac{GM}{c^2 R}\\right)c^2 \\dot{t}^2-\\frac{\\dot{R}^2}{\\left(1-2 \\frac{GM}{c^2 R}\\right)}-R^2 \\dot{\\theta}^2- R^2 \\sin^2(\\theta) \\dot{\\phi}^2};\n",
    "$$\n",
    "\n",
    "The derivatives are with respect to the interval $\\tau$. The Lagrangian is going to be invariant under a Lorentz transformation, as it typically is. There a three parts: a mass $m$, a constant $c$, and the square root of a velocity squared, so it is an $m \\rm{velocity}^2$ expression of energy.Begin the analysis of this Lagrangian by writing it in a symbolic form so derivatives can be taken."
   ]
  },
  {
   "cell_type": "code",
   "execution_count": 2,
   "metadata": {},
   "outputs": [
    {
     "name": "stdout",
     "output_type": "stream",
     "text": [
      "\n"
     ]
    },
    {
     "data": {
      "text/latex": [
       "$$- c m \\sqrt{- R^{2} \\dot{Φ}^{2} \\sin^{2}{\\left (θ \\right )} - R^{2} \\dot{θ}^{2} - \\frac{\\dot{R}^{2}}{- \\frac{2 GM}{R c^{2}} + 1} + c^{2} \\dot{t}^{2} \\left(- \\frac{2 GM}{R c^{2}} + 1\\right)}$$"
      ],
      "text/plain": [
       "             ______________________________________________________________\n",
       "            ╱                                  2                           \n",
       "           ╱     2   2    2       2   2      Ṙ         2   2 ⎛  2⋅GM    ⎞ \n",
       "-c⋅m⋅     ╱   - R ⋅Φ̇ ⋅sin (θ) - R ⋅θ̇  - ────────── + c ⋅ṫ ⋅⎜- ──── + 1⎟ \n",
       "         ╱                                  2⋅GM              ⎜     2    ⎟ \n",
       "        ╱                                 - ──── + 1          ⎝  R⋅c     ⎠ \n",
       "       ╱                                       2                           \n",
       "     ╲╱                                     R⋅c                            "
      ]
     },
     "execution_count": 2,
     "metadata": {},
     "output_type": "execute_result"
    }
   ],
   "source": [
    "import sympy as sp\n",
    "from sympy import init_printing\n",
    "from sympy import latex\n",
    "sp.init_session(quiet=True)\n",
    "init_printing(use_latex='mathjax')\n",
    "R, θ, tdot, Rdot, θdot, Φdot, c, GM, m = sp.symbols(\"R, θ, tdot, Rdot, θdot, Φdot, c, GM, m\")\n",
    "\n",
    "c2 = c ** 2\n",
    "g_factor = (1 - 2 * GM / (c2 * R))\n",
    "\n",
    "LSch = - m * c * sp.sqrt( g_factor * c2 * tdot ** 2 - Rdot ** 2 / g_factor - R ** 2 * θdot ** 2 - R ** 2 * sp.sin(θ) ** 2 * Φdot ** 2 )\n",
    "LSch"
   ]
  },
  {
   "cell_type": "markdown",
   "metadata": {},
   "source": [
    "The terms get mixed around, but the form looks correct.\n",
    "\n",
    "To calculate the energy, take the derivative with respect to tdot."
   ]
  },
  {
   "cell_type": "code",
   "execution_count": 17,
   "metadata": {},
   "outputs": [],
   "source": [
    "dLtdot = diff(LSch, tdot)"
   ]
  },
  {
   "cell_type": "markdown",
   "metadata": {},
   "source": [
    "$$ - \\frac{c^{3} m \\dot{t} \\left(- \\frac{2 GM}{R c^{2}} + 1\\right)}{\\sqrt{- R^{2} \\dot{Φ}^{2} \\sin^{2}{\\left (θ \\right )} - R^{2} \\dot{θ}^{2} - \\frac{\\dot{R}^{2}}{- \\frac{2 GM}{R c^{2}} + 1} + c^{2} \\dot{t}^{2} \\left(- \\frac{2 GM}{R c^{2}} + 1\\right)}} $$"
   ]
  },
  {
   "cell_type": "markdown",
   "metadata": {},
   "source": [
    "The denominator looks frightening, but recall that it just equals unity. As $M \\rightarrow 0$ or $R \\rightarrow \\infty$, the result is what we expect for special relativity."
   ]
  },
  {
   "cell_type": "markdown",
   "metadata": {},
   "source": [
    "Analyze the angular conservation using the phi dot term."
   ]
  },
  {
   "cell_type": "code",
   "execution_count": 4,
   "metadata": {},
   "outputs": [
    {
     "data": {
      "text/latex": [
       "$$\\frac{R^{2} c m \\dot{Φ} \\sin^{2}{\\left (θ \\right )}}{\\sqrt{- R^{2} \\dot{Φ}^{2} \\sin^{2}{\\left (θ \\right )} - R^{2} \\dot{θ}^{2} - \\frac{\\dot{R}^{2}}{- \\frac{2 GM}{R c^{2}} + 1} + c^{2} \\dot{t}^{2} \\left(- \\frac{2 GM}{R c^{2}} + 1\\right)}}$$"
      ],
      "text/plain": [
       "                           2           2                              \n",
       "                          R ⋅c⋅m⋅Φ̇⋅sin (θ)                           \n",
       "──────────────────────────────────────────────────────────────────────\n",
       "        ______________________________________________________________\n",
       "       ╱                                  2                           \n",
       "      ╱     2   2    2       2   2      Ṙ         2   2 ⎛  2⋅GM    ⎞ \n",
       "     ╱   - R ⋅Φ̇ ⋅sin (θ) - R ⋅θ̇  - ────────── + c ⋅ṫ ⋅⎜- ──── + 1⎟ \n",
       "    ╱                                  2⋅GM              ⎜     2    ⎟ \n",
       "   ╱                                 - ──── + 1          ⎝  R⋅c     ⎠ \n",
       "  ╱                                       2                           \n",
       "╲╱                                     R⋅c                            "
      ]
     },
     "execution_count": 4,
     "metadata": {},
     "output_type": "execute_result"
    }
   ],
   "source": [
    "dLΦdot = diff(LSch, Φdot)\n",
    "dLΦdot"
   ]
  },
  {
   "cell_type": "markdown",
   "metadata": {},
   "source": [
    "Again the rather complicated expression of unity appears in the denominator. By comparison, the numerator looks simple and reasonable. \n",
    "\n",
    "Is this Lagrangian right? It is true that there is some latitude in picking out a Lagrangian. Since physics uses detivatives of Lagrangians, adding constant values can be done liberally. The two best things about the Lagrangian LSch is that it gets both the conservative quantities correct as confirmed by experimental tests of weak field gravity.\n",
    "\n",
    "Many poeple would stop there and claim the case is closed, up to some arbitrary additiona and multiplication factors. Yet there are a number of things that bother me about the Lagrangian LSch. Why should there be a minus sign? Why use the constant veolcity $c$ in $ m c \\sqrt{{...}}) $ when one is studying a velocity that changes in a gravity field? A square root function creates complicated relationships.\n",
    "\n",
    "To explore LSch in more depth, take a derivative of the energy. Here are three second derivative terms:"
   ]
  },
  {
   "cell_type": "code",
   "execution_count": 5,
   "metadata": {},
   "outputs": [
    {
     "data": {
      "text/latex": [
       "$$\\frac{c^{5} m \\dot{t}^{2} \\left(- \\frac{2 GM}{R c^{2}} + 1\\right)^{2}}{\\left(- R^{2} \\dot{Φ}^{2} \\sin^{2}{\\left (θ \\right )} - R^{2} \\dot{θ}^{2} - \\frac{\\dot{R}^{2}}{- \\frac{2 GM}{R c^{2}} + 1} + c^{2} \\dot{t}^{2} \\left(- \\frac{2 GM}{R c^{2}} + 1\\right)\\right)^{\\frac{3}{2}}} - \\frac{c^{3} m \\left(- \\frac{2 GM}{R c^{2}} + 1\\right)}{\\sqrt{- R^{2} \\dot{Φ}^{2} \\sin^{2}{\\left (θ \\right )} - R^{2} \\dot{θ}^{2} - \\frac{\\dot{R}^{2}}{- \\frac{2 GM}{R c^{2}} + 1} + c^{2} \\dot{t}^{2} \\left(- \\frac{2 GM}{R c^{2}} + 1\\right)}}$$"
      ],
      "text/plain": [
       "                                           2                                  \n",
       "                       5     2 ⎛  2⋅GM    ⎞                                   \n",
       "                      c ⋅m⋅ṫ ⋅⎜- ──── + 1⎟                                   \n",
       "                               ⎜     2    ⎟                                   \n",
       "                               ⎝  R⋅c     ⎠                                   \n",
       "───────────────────────────────────────────────────────────────── - ──────────\n",
       "                                                              3/2           __\n",
       "⎛                                 2                          ⎞             ╱  \n",
       "⎜   2   2    2       2   2      Ṙ         2   2 ⎛  2⋅GM    ⎞⎟            ╱   \n",
       "⎜- R ⋅Φ̇ ⋅sin (θ) - R ⋅θ̇  - ────────── + c ⋅ṫ ⋅⎜- ──── + 1⎟⎟           ╱   -\n",
       "⎜                              2⋅GM              ⎜     2    ⎟⎟          ╱     \n",
       "⎜                            - ──── + 1          ⎝  R⋅c     ⎠⎟         ╱      \n",
       "⎜                                 2                          ⎟        ╱       \n",
       "⎝                              R⋅c                           ⎠      ╲╱        \n",
       "\n",
       "                                                            \n",
       "                 3   ⎛  2⋅GM    ⎞                           \n",
       "                c ⋅m⋅⎜- ──── + 1⎟                           \n",
       "                     ⎜     2    ⎟                           \n",
       "                     ⎝  R⋅c     ⎠                           \n",
       "────────────────────────────────────────────────────────────\n",
       "____________________________________________________________\n",
       "                                2                           \n",
       "  2   2    2       2   2      Ṙ         2   2 ⎛  2⋅GM    ⎞ \n",
       " R ⋅Φ̇ ⋅sin (θ) - R ⋅θ̇  - ────────── + c ⋅ṫ ⋅⎜- ──── + 1⎟ \n",
       "                             2⋅GM              ⎜     2    ⎟ \n",
       "                           - ──── + 1          ⎝  R⋅c     ⎠ \n",
       "                                2                           \n",
       "                             R⋅c                            "
      ]
     },
     "execution_count": 5,
     "metadata": {},
     "output_type": "execute_result"
    }
   ],
   "source": [
    "diff(dLtdot, tdot)"
   ]
  },
  {
   "cell_type": "code",
   "execution_count": 6,
   "metadata": {},
   "outputs": [
    {
     "data": {
      "text/latex": [
       "$$- \\frac{2 GM c m \\dot{t}}{R^{2} \\sqrt{- R^{2} \\dot{Φ}^{2} \\sin^{2}{\\left (θ \\right )} - R^{2} \\dot{θ}^{2} - \\frac{\\dot{R}^{2}}{- \\frac{2 GM}{R c^{2}} + 1} + c^{2} \\dot{t}^{2} \\left(- \\frac{2 GM}{R c^{2}} + 1\\right)}} - \\frac{c^{3} m \\dot{t} \\left(- \\frac{2 GM}{R c^{2}} + 1\\right) \\left(- \\frac{GM \\dot{R}^{2}}{R^{2} c^{2} \\left(- \\frac{2 GM}{R c^{2}} + 1\\right)^{2}} - \\frac{GM \\dot{t}^{2}}{R^{2}} + R \\dot{Φ}^{2} \\sin^{2}{\\left (θ \\right )} + R \\dot{θ}^{2}\\right)}{\\left(- R^{2} \\dot{Φ}^{2} \\sin^{2}{\\left (θ \\right )} - R^{2} \\dot{θ}^{2} - \\frac{\\dot{R}^{2}}{- \\frac{2 GM}{R c^{2}} + 1} + c^{2} \\dot{t}^{2} \\left(- \\frac{2 GM}{R c^{2}} + 1\\right)\\right)^{\\frac{3}{2}}}$$"
      ],
      "text/plain": [
       "                                                                              \n",
       "                                                                              \n",
       "                                                                              \n",
       "                                                                              \n",
       "                                                                              \n",
       "                                                                              \n",
       "                                                                              \n",
       "                                 2⋅GM⋅c⋅m⋅ṫ                                  \n",
       "- ───────────────────────────────────────────────────────────────────────── - \n",
       "             ______________________________________________________________   \n",
       "            ╱                                  2                              \n",
       "   2       ╱     2   2    2       2   2      Ṙ         2   2 ⎛  2⋅GM    ⎞    \n",
       "  R ⋅     ╱   - R ⋅Φ̇ ⋅sin (θ) - R ⋅θ̇  - ────────── + c ⋅ṫ ⋅⎜- ──── + 1⎟    \n",
       "         ╱                                  2⋅GM              ⎜     2    ⎟    \n",
       "        ╱                                 - ──── + 1          ⎝  R⋅c     ⎠    \n",
       "       ╱                                       2                              \n",
       "     ╲╱                                     R⋅c                               \n",
       "\n",
       "                     ⎛              2              2                        ⎞\n",
       " 3      ⎛  2⋅GM    ⎞ ⎜         GM⋅Ṙ          GM⋅ṫ        2    2          2⎟\n",
       "c ⋅m⋅ṫ⋅⎜- ──── + 1⎟⋅⎜- ─────────────────── - ────── + R⋅Φ̇ ⋅sin (θ) + R⋅θ̇ ⎟\n",
       "        ⎜     2    ⎟ ⎜                    2      2                          ⎟\n",
       "        ⎝  R⋅c     ⎠ ⎜   2  2 ⎛  2⋅GM    ⎞      R                           ⎟\n",
       "                     ⎜  R ⋅c ⋅⎜- ──── + 1⎟                                  ⎟\n",
       "                     ⎜        ⎜     2    ⎟                                  ⎟\n",
       "                     ⎝        ⎝  R⋅c     ⎠                                  ⎠\n",
       "─────────────────────────────────────────────────────────────────────────────\n",
       "                                                                    3/2      \n",
       "      ⎛                                 2                          ⎞         \n",
       "      ⎜   2   2    2       2   2      Ṙ         2   2 ⎛  2⋅GM    ⎞⎟         \n",
       "      ⎜- R ⋅Φ̇ ⋅sin (θ) - R ⋅θ̇  - ────────── + c ⋅ṫ ⋅⎜- ──── + 1⎟⎟         \n",
       "      ⎜                              2⋅GM              ⎜     2    ⎟⎟         \n",
       "      ⎜                            - ──── + 1          ⎝  R⋅c     ⎠⎟         \n",
       "      ⎜                                 2                          ⎟         \n",
       "      ⎝                              R⋅c                           ⎠         "
      ]
     },
     "execution_count": 6,
     "metadata": {},
     "output_type": "execute_result"
    }
   ],
   "source": [
    "diff(dLtdot, R)"
   ]
  },
  {
   "cell_type": "code",
   "execution_count": 7,
   "metadata": {},
   "outputs": [
    {
     "data": {
      "text/latex": [
       "$$- \\frac{\\dot{R} c^{3} m \\dot{t}}{\\left(- R^{2} \\dot{Φ}^{2} \\sin^{2}{\\left (θ \\right )} - R^{2} \\dot{θ}^{2} - \\frac{\\dot{R}^{2}}{- \\frac{2 GM}{R c^{2}} + 1} + c^{2} \\dot{t}^{2} \\left(- \\frac{2 GM}{R c^{2}} + 1\\right)\\right)^{\\frac{3}{2}}}$$"
      ],
      "text/plain": [
       "                                3                                \n",
       "                           -Ṙ⋅c ⋅m⋅ṫ                           \n",
       "─────────────────────────────────────────────────────────────────\n",
       "                                                              3/2\n",
       "⎛                                 2                          ⎞   \n",
       "⎜   2   2    2       2   2      Ṙ         2   2 ⎛  2⋅GM    ⎞⎟   \n",
       "⎜- R ⋅Φ̇ ⋅sin (θ) - R ⋅θ̇  - ────────── + c ⋅ṫ ⋅⎜- ──── + 1⎟⎟   \n",
       "⎜                              2⋅GM              ⎜     2    ⎟⎟   \n",
       "⎜                            - ──── + 1          ⎝  R⋅c     ⎠⎟   \n",
       "⎜                                 2                          ⎟   \n",
       "⎝                              R⋅c                           ⎠   "
      ]
     },
     "execution_count": 7,
     "metadata": {},
     "output_type": "execute_result"
    }
   ],
   "source": [
    "diff(dLtdot, Rdot)"
   ]
  },
  {
   "cell_type": "markdown",
   "metadata": {},
   "source": [
    "All three are complicated. Physics of course allows for complicated situations. Yet this is suppose to be simple, just a particle and a weak, static gravitational source."
   ]
  },
  {
   "cell_type": "markdown",
   "metadata": {},
   "source": [
    "As a possible alternative, construct a new Lagrangian, one that starts from a justified starting spot. Write out a relativistic kinetic energy expressin that uses the same velocity squared, but does not use a square root."
   ]
  },
  {
   "cell_type": "code",
   "execution_count": 8,
   "metadata": {},
   "outputs": [
    {
     "data": {
      "text/latex": [
       "$$0.5 R^{2} \\dot{Φ}^{2} \\sin^{2}{\\left (θ \\right )} + 0.5 R^{2} \\dot{θ}^{2} + \\frac{0.5 \\dot{R}^{2}}{- \\frac{2 GM}{R c^{2}} + 1} - 0.5 c^{2} \\dot{t}^{2} \\left(- \\frac{2 GM}{R c^{2}} + 1\\right) + 1$$"
      ],
      "text/plain": [
       "                                         2                                \n",
       "     2   2    2           2   2    0.5⋅Ṙ           2   2 ⎛  2⋅GM    ⎞    \n",
       "0.5⋅R ⋅Φ̇ ⋅sin (θ) + 0.5⋅R ⋅θ̇  + ────────── - 0.5⋅c ⋅ṫ ⋅⎜- ──── + 1⎟ + 1\n",
       "                                    2⋅GM                  ⎜     2    ⎟    \n",
       "                                  - ──── + 1              ⎝  R⋅c     ⎠    \n",
       "                                       2                                  \n",
       "                                    R⋅c                                   "
      ]
     },
     "execution_count": 8,
     "metadata": {},
     "output_type": "execute_result"
    }
   ],
   "source": [
    "LKE = 1 - 1/2 * ( g_factor * c2 * tdot ** 2 - Rdot ** 2 / g_factor - R ** 2 * θdot ** 2 - R ** 2 * sp.sin(θ) ** 2 * Φdot ** 2 )\n",
    "LKE"
   ]
  },
  {
   "cell_type": "markdown",
   "metadata": {},
   "source": [
    "Do the same sort of analysis as done before for the same reasons, namely to find the conserved energy and angular momentum."
   ]
  },
  {
   "cell_type": "code",
   "execution_count": 18,
   "metadata": {},
   "outputs": [
    {
     "data": {
      "text/latex": [
       "$$\\frac{2.0 GM \\dot{t}}{R} - 1.0 c^{2} \\dot{t}$$"
      ],
      "text/plain": [
       "2.0⋅GM⋅ṫ        2   \n",
       "───────── - 1.0⋅c ⋅ṫ\n",
       "    R                "
      ]
     },
     "execution_count": 18,
     "metadata": {},
     "output_type": "execute_result"
    }
   ],
   "source": [
    "dLKEtdot = diff(LKE, tdot)\n",
    "sp.expand(dLKEtdot)"
   ]
  },
  {
   "cell_type": "code",
   "execution_count": 10,
   "metadata": {},
   "outputs": [
    {
     "data": {
      "text/latex": [
       "$$1.0 R^{2} \\dot{Φ} \\sin^{2}{\\left (θ \\right )}$$"
      ],
      "text/plain": [
       "     2       2   \n",
       "1.0⋅R ⋅Φ̇⋅sin (θ)"
      ]
     },
     "execution_count": 10,
     "metadata": {},
     "output_type": "execute_result"
    }
   ],
   "source": [
    "dLKEΦdot = diff(LKE, Φdot)\n",
    "dLKEΦdot"
   ]
  },
  {
   "cell_type": "markdown",
   "metadata": {},
   "source": [
    "The \"numerator\" energy and momentum terms are exactly as before, but there is no complicated denominator. Using the velocity squared means no square root complications. See how that continues through these subsequent derivates of the energy."
   ]
  },
  {
   "cell_type": "code",
   "execution_count": 11,
   "metadata": {},
   "outputs": [
    {
     "data": {
      "text/latex": [
       "$$- 1.0 c^{2} \\left(- \\frac{2 GM}{R c^{2}} + 1\\right)$$"
      ],
      "text/plain": [
       "      2 ⎛  2⋅GM    ⎞\n",
       "-1.0⋅c ⋅⎜- ──── + 1⎟\n",
       "        ⎜     2    ⎟\n",
       "        ⎝  R⋅c     ⎠"
      ]
     },
     "execution_count": 11,
     "metadata": {},
     "output_type": "execute_result"
    }
   ],
   "source": [
    "diff(dLKEtdot, tdot)"
   ]
  },
  {
   "cell_type": "code",
   "execution_count": 12,
   "metadata": {},
   "outputs": [
    {
     "data": {
      "text/latex": [
       "$$- \\frac{2.0 GM \\dot{t}}{R^{2}}$$"
      ],
      "text/plain": [
       "-2.0⋅GM⋅ṫ \n",
       "───────────\n",
       "      2    \n",
       "     R     "
      ]
     },
     "execution_count": 12,
     "metadata": {},
     "output_type": "execute_result"
    }
   ],
   "source": [
    "diff(dLKEtdot, R)"
   ]
  },
  {
   "cell_type": "code",
   "execution_count": 13,
   "metadata": {},
   "outputs": [
    {
     "data": {
      "text/latex": [
       "$$0$$"
      ],
      "text/plain": [
       "0"
      ]
     },
     "execution_count": 13,
     "metadata": {},
     "output_type": "execute_result"
    }
   ],
   "source": [
    "diff(dLKEtdot, Rdot)"
   ]
  },
  {
   "cell_type": "markdown",
   "metadata": {},
   "source": [
    "Everything is simpler. The last expression may provide the clearest way to distinguish between the two Lagrangians. For LKE, the energy is not a fucntion of Rdot. "
   ]
  }
 ],
 "metadata": {
  "kernelspec": {
   "display_name": "Python 3",
   "language": "python",
   "name": "python3"
  },
  "language_info": {
   "codemirror_mode": {
    "name": "ipython",
    "version": 3
   },
   "file_extension": ".py",
   "mimetype": "text/x-python",
   "name": "python",
   "nbconvert_exporter": "python",
   "pygments_lexer": "ipython3",
   "version": "3.6.7"
  }
 },
 "nbformat": 4,
 "nbformat_minor": 2
}
